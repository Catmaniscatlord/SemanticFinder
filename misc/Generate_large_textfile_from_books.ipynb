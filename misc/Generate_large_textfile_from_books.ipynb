{
 "cells": [
  {
   "cell_type": "markdown",
   "metadata": {},
   "source": [
    "# Script for generating large text files \n",
    "\n",
    "Keeps the metadata concatted with \"|\" as first line"
   ]
  },
  {
   "cell_type": "code",
   "execution_count": 7,
   "metadata": {},
   "outputs": [
    {
     "name": "stdout",
     "output_type": "stream",
     "text": [
      "Pages: 28986 | Words: 15893741\n"
     ]
    }
   ],
   "source": [
    "import pandas as pd \n",
    "\n",
    "# download first \"https://huggingface.co/datasets/storytracer/US-PD-Books/resolve/main/data/train-00000-of-00327.parquet?download=true\")\n",
    "df = pd.read_parquet(\"train-00000-of-00327.parquet\") \n",
    "\n",
    "# e.g. 100 books only \n",
    "books_number = 100\n",
    "df = df.iloc[:books_number]\n",
    "df[\"words\"] = df.full_text.apply(lambda x: len(x.split(\" \")))\n",
    "print(f\"Pages: {df.page_count.sum()} | Words: {df.words.sum()}\") #df.words.sum())"
   ]
  },
  {
   "cell_type": "code",
   "execution_count": 8,
   "metadata": {},
   "outputs": [],
   "source": [
    "# Define the columns to concatenate, excluding 'full_text'\n",
    "metadata_columns = ['ocaid', 'title', 'author', 'year', 'page_count', 'openlibrary_edition', 'openlibrary_work']\n",
    "\n",
    "# Function to concatenate metadata and full_text\n",
    "def concatenate_row(row):\n",
    "    metadata = '|'.join(row[metadata_columns].astype(str)) # Convert to string and join with '|'\n",
    "    full_text = row['full_text']\n",
    "    return metadata + '|' + full_text\n"
   ]
  },
  {
   "cell_type": "code",
   "execution_count": 11,
   "metadata": {},
   "outputs": [
    {
     "data": {
      "text/html": [
       "<div>\n",
       "<style scoped>\n",
       "    .dataframe tbody tr th:only-of-type {\n",
       "        vertical-align: middle;\n",
       "    }\n",
       "\n",
       "    .dataframe tbody tr th {\n",
       "        vertical-align: top;\n",
       "    }\n",
       "\n",
       "    .dataframe thead th {\n",
       "        text-align: right;\n",
       "    }\n",
       "</style>\n",
       "<table border=\"1\" class=\"dataframe\">\n",
       "  <thead>\n",
       "    <tr style=\"text-align: right;\">\n",
       "      <th></th>\n",
       "      <th>ocaid</th>\n",
       "      <th>title</th>\n",
       "      <th>author</th>\n",
       "      <th>year</th>\n",
       "      <th>page_count</th>\n",
       "      <th>openlibrary_edition</th>\n",
       "      <th>openlibrary_work</th>\n",
       "      <th>full_text</th>\n",
       "      <th>words</th>\n",
       "    </tr>\n",
       "  </thead>\n",
       "  <tbody>\n",
       "    <tr>\n",
       "      <th>0</th>\n",
       "      <td>worksofcharlesle01leve</td>\n",
       "      <td>The works of Charles Lever</td>\n",
       "      <td>Lever, Charles James, 1806-1872</td>\n",
       "      <td>1872</td>\n",
       "      <td>692</td>\n",
       "      <td>OL13499428M</td>\n",
       "      <td>OL3564322W</td>\n",
       "      <td>&lt;8      ''         ^/^r \\n\\n\\nN      V       s...</td>\n",
       "      <td>1045410</td>\n",
       "    </tr>\n",
       "    <tr>\n",
       "      <th>1</th>\n",
       "      <td>specimensofexpos00lamorich</td>\n",
       "      <td>Specimens of exposition</td>\n",
       "      <td>Lamont, Hammond, 1864-1909</td>\n",
       "      <td>1894</td>\n",
       "      <td>220</td>\n",
       "      <td>OL7034373M</td>\n",
       "      <td>OL202608W</td>\n",
       "      <td>Ifteafeirtgs \\n\\n\\nUC-NRLF \\n\\n\\nSPECIMENS \\n\\...</td>\n",
       "      <td>109283</td>\n",
       "    </tr>\n",
       "    <tr>\n",
       "      <th>2</th>\n",
       "      <td>recollectionsand00greerich</td>\n",
       "      <td>Recollections and reflections : an auto of hal...</td>\n",
       "      <td>Green, Wharton J. (Wharton Jackson), 1831-1910</td>\n",
       "      <td>1906</td>\n",
       "      <td>400</td>\n",
       "      <td>OL7098980M</td>\n",
       "      <td>OL7710550W</td>\n",
       "      <td>;     J.  GREEN \\n\\n\\nRECOLLECTIONS  AND  REFL...</td>\n",
       "      <td>229753</td>\n",
       "    </tr>\n",
       "    <tr>\n",
       "      <th>3</th>\n",
       "      <td>puddnheadwilsont00twaiiala</td>\n",
       "      <td>Pudd'nhead Wilson, and Those extraordinary twins</td>\n",
       "      <td>Twain, Mark, 1835-1910</td>\n",
       "      <td>1922</td>\n",
       "      <td>322</td>\n",
       "      <td>OL7095992M</td>\n",
       "      <td>OL15269096W</td>\n",
       "      <td>ROXY  HARVESTING  AMONG  THE   KITCHENS \\n\\n\\n...</td>\n",
       "      <td>142528</td>\n",
       "    </tr>\n",
       "    <tr>\n",
       "      <th>4</th>\n",
       "      <td>hansbreitmann00lelarich</td>\n",
       "      <td>Hans Breitmann in Germany;</td>\n",
       "      <td>Leland, Charles Godfrey, 1824-1903</td>\n",
       "      <td>1895</td>\n",
       "      <td>184</td>\n",
       "      <td>OL7202758M</td>\n",
       "      <td>OL4108366W</td>\n",
       "      <td>;'HP- \\n\\n\\nn \\n\\n\\n\"* \\n\\nr.l»* \\n\\n'f  . \\n\\...</td>\n",
       "      <td>58760</td>\n",
       "    </tr>\n",
       "  </tbody>\n",
       "</table>\n",
       "</div>"
      ],
      "text/plain": [
       "                        ocaid   \n",
       "0      worksofcharlesle01leve  \\\n",
       "1  specimensofexpos00lamorich   \n",
       "2  recollectionsand00greerich   \n",
       "3  puddnheadwilsont00twaiiala   \n",
       "4     hansbreitmann00lelarich   \n",
       "\n",
       "                                               title   \n",
       "0                         The works of Charles Lever  \\\n",
       "1                            Specimens of exposition   \n",
       "2  Recollections and reflections : an auto of hal...   \n",
       "3   Pudd'nhead Wilson, and Those extraordinary twins   \n",
       "4                         Hans Breitmann in Germany;   \n",
       "\n",
       "                                           author  year  page_count   \n",
       "0                 Lever, Charles James, 1806-1872  1872         692  \\\n",
       "1                      Lamont, Hammond, 1864-1909  1894         220   \n",
       "2  Green, Wharton J. (Wharton Jackson), 1831-1910  1906         400   \n",
       "3                          Twain, Mark, 1835-1910  1922         322   \n",
       "4              Leland, Charles Godfrey, 1824-1903  1895         184   \n",
       "\n",
       "  openlibrary_edition openlibrary_work   \n",
       "0         OL13499428M       OL3564322W  \\\n",
       "1          OL7034373M        OL202608W   \n",
       "2          OL7098980M       OL7710550W   \n",
       "3          OL7095992M      OL15269096W   \n",
       "4          OL7202758M       OL4108366W   \n",
       "\n",
       "                                           full_text    words  \n",
       "0  <8      ''         ^/^r \\n\\n\\nN      V       s...  1045410  \n",
       "1  Ifteafeirtgs \\n\\n\\nUC-NRLF \\n\\n\\nSPECIMENS \\n\\...   109283  \n",
       "2  ;     J.  GREEN \\n\\n\\nRECOLLECTIONS  AND  REFL...   229753  \n",
       "3  ROXY  HARVESTING  AMONG  THE   KITCHENS \\n\\n\\n...   142528  \n",
       "4  ;'HP- \\n\\n\\nn \\n\\n\\n\"* \\n\\nr.l»* \\n\\n'f  . \\n\\...    58760  "
      ]
     },
     "execution_count": 11,
     "metadata": {},
     "output_type": "execute_result"
    }
   ],
   "source": [
    "df.head()"
   ]
  },
  {
   "cell_type": "code",
   "execution_count": 9,
   "metadata": {},
   "outputs": [
    {
     "name": "stdout",
     "output_type": "stream",
     "text": [
      "The text file '100_books.txt' has been created.\n"
     ]
    }
   ],
   "source": [
    "# Apply the function to each row and save to a list\n",
    "concatenated_rows = df.iloc[:books_number].apply(concatenate_row, axis=1).tolist()\n",
    "\n",
    "# Write the concatenated rows to a text file\n",
    "with open(f'{books_number}_books.txt', 'w', encoding='utf-8') as f:\n",
    "    for row in concatenated_rows:\n",
    "        f.write(row + '\\n')\n",
    "\n",
    "print(f\"The text file '{books_number}_books.txt' has been created.\")\n"
   ]
  },
  {
   "cell_type": "code",
   "execution_count": null,
   "metadata": {},
   "outputs": [],
   "source": []
  }
 ],
 "metadata": {
  "kernelspec": {
   "display_name": "py3.11",
   "language": "python",
   "name": "python3"
  },
  "language_info": {
   "codemirror_mode": {
    "name": "ipython",
    "version": 3
   },
   "file_extension": ".py",
   "mimetype": "text/x-python",
   "name": "python",
   "nbconvert_exporter": "python",
   "pygments_lexer": "ipython3",
   "version": "3.11.0"
  }
 },
 "nbformat": 4,
 "nbformat_minor": 2
}
